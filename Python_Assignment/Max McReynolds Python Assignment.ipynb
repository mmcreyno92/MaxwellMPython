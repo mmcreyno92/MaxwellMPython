{
 "cells": [
  {
   "cell_type": "code",
   "execution_count": 1,
   "metadata": {
    "collapsed": true
   },
   "outputs": [],
   "source": [
    "#Dr X, I'm happy to finish this assignment for you\n",
    "#First let's import all of the necessary BioPython materials\n",
    "from Bio import SeqIO\n",
    "from Bio.Seq import Seq\n",
    "from Bio.Alphabet import IUPAC\n",
    "#Source http://biopython.org/wiki/Seq"
   ]
  },
  {
   "cell_type": "code",
   "execution_count": 2,
   "metadata": {
    "collapsed": true
   },
   "outputs": [],
   "source": [
    "#Lets not forget the codontable, this will be useful for converting nucleotides to amino acids\n",
    "from Bio.Data import CodonTable"
   ]
  },
  {
   "cell_type": "code",
   "execution_count": 3,
   "metadata": {
    "collapsed": true
   },
   "outputs": [],
   "source": [
    "#Pandas is a powerful tool for data manipulation and dataframe creation, we'll be \n",
    "#using it quite frequently in this exercise\n",
    "import pandas as pd"
   ]
  },
  {
   "cell_type": "code",
   "execution_count": 405,
   "metadata": {
    "collapsed": true
   },
   "outputs": [],
   "source": [
    "#This is the function you wrote for getting the sequences from our fasta files.  Lets document\n",
    "#this in more detail\n",
    "def get_sequences_from_file(fasta_fn):\n",
    "    sequence_data_dict = {}\n",
    "    for record in SeqIO.parse(fasta_fn, \"fasta\"):\n",
    "        description = record.description.split()\n",
    "        species_name = description[1] + \" \" + description[2]\n",
    "        sequence_data_dict[species_name] = record.seq\n",
    "    return(sequence_data_dict)\n",
    "#The first line is creating the function which we define as getting sequences from the fasta\n",
    "#file the fasta_fn is a fill in for the file name of the fasta file\n",
    "#Line 2 is the creation of an empty dictionary which you called sequence_data_dict\n",
    "#Line 3 creates a for loop to which we use a SeqIO parse function to look for fasta\n",
    "#information from a file fasta\n",
    "#Line 4 splits the information in the file to create a description\n",
    "#Line 5 creates the variable species name which is a combination of genus and species\n",
    "#Line 6 creates a record.seq which is the sequence_data_dict with the species name\n",
    "#Finally line 7 returns the information from the for loop as the sequence_data_dict\n",
    "#Source https://www.biostars.org/p/710/, https://docs.python.org/3/tutorial/datastructures.html,\n",
    "#http://biopython.org/wiki/SeqRecord"
   ]
  },
  {
   "cell_type": "code",
   "execution_count": 406,
   "metadata": {},
   "outputs": [],
   "source": [
    "#Dr. X, you did a good job outlining this function for me but it appears it needs to be \n",
    "#completed for it to work properly\n",
    "def translate_function(string_nucleotides): \n",
    "    mito_table = CodonTable.unambiguous_dna_by_name[\"Vertebrate Mitochondrial\"] \n",
    "    aa_seq_string = \"\"\n",
    "    for n in range(0, len(string_nucleotides),3):\n",
    "        codon = string_nucleotides[n:n+3]\n",
    "        if codon in mito_table.stop_codons: \n",
    "            break\n",
    "        else: \n",
    "            aa_seq_string = aa_seq_string + mito_table.forward_table[codon]\n",
    "    return(aa_seq_string)\n",
    "#This is again creating a function that we can use for downstream applications, from the name\n",
    "#you define it seems that it is meant to translate strings of nucleotides (line 1)\n",
    "#Line 2 loads the codon table we will be using for the translation.  It is a table for Vertebrate\n",
    "#Mitochondria based on coding DNA sequence\n",
    "#Line three is creating an empty string to which the following for loop will be created as\n",
    "#Line 4 starts the for loop and is using the value n in a range subset to create ranges of length\n",
    "#three\n",
    "#Line 5 is creating the variable codon to which will be three nucleotides within the range we\n",
    "#created\n",
    "#Line 6 starts an if statement to which if the codon or string of three nucleotides is present\n",
    "#in that table of stop codons the loop will stop for that file (break)\n",
    "#Line 7 follows the break and is the else statement to which if the codon isn't found in the\n",
    "#stop codon table it will be added to the AA sequence string creating the translation(s) we \n",
    "#need\n",
    "#Line 8 is the return value\n",
    "#Source:https://www.biostars.org/p/2903/, http://hplgit.github.io/bioinf-py/doc/pub/bioinf-py.html"
   ]
  },
  {
   "cell_type": "code",
   "execution_count": 395,
   "metadata": {},
   "outputs": [],
   "source": [
    "#Dr X I've created a function that will do the same as your above outlined function but with \n",
    "#less amount of code and using Biopython\n",
    "#Line 1 is defining the function as Max_translate which will use string_nucleotide data\n",
    "#Line 2 is I'm creating the coding DNA which is based on DNA from IUPAC data and the nucleotides\n",
    "#from the string_nucleotides portion of our fasta files\n",
    "#Line three is taking the coding nucleotide strand and translating that to amino acides from the\n",
    "#mitochondrial vertebrate table and also making sure the translation stops at the pre-defined stop\n",
    "#codons\n",
    "#Line 4 is the return sequence name\n",
    "#Source http://biopython.org/wiki/Seq, http://biopython.org/DIST/docs/api/Bio.Seq-module.html\n",
    "\n",
    "def Max_translate(string_nucleotides):\n",
    "    coding_DNA = Seq(string_nucleotides, IUPAC.unambiguous_dna)\n",
    "    max_aa_seq = coding_DNA.translate(table=2, to_stop=True)\n",
    "    return(max_aa_seq)"
   ]
  },
  {
   "cell_type": "code",
   "execution_count": 398,
   "metadata": {},
   "outputs": [
    {
     "data": {
      "text/plain": [
       "Seq('MAF', IUPACProtein())"
      ]
     },
     "execution_count": 398,
     "metadata": {},
     "output_type": "execute_result"
    }
   ],
   "source": [
    "#Testing my translate function, it works!  It even stops at the stop codon.\n",
    "Max_translate(\"ATGGCCTTTTAAGTTAAAAAAAAA\")"
   ]
  },
  {
   "cell_type": "code",
   "execution_count": 399,
   "metadata": {},
   "outputs": [
    {
     "data": {
      "text/plain": [
       "'MAF'"
      ]
     },
     "execution_count": 399,
     "metadata": {},
     "output_type": "execute_result"
    }
   ],
   "source": [
    "#Testing your outlined function, it also works and stops at the stop codon like mine\n",
    "translate_function(\"ATGGCCTTTTAAGTTAAAAAAAAA\")"
   ]
  },
  {
   "cell_type": "code",
   "execution_count": 163,
   "metadata": {
    "collapsed": true
   },
   "outputs": [],
   "source": [
    "#Lets begin the analysis of the amino acid sequence, first we must import the package\n",
    "#Source http://biopython.org/wiki/ProtParam\n",
    "from Bio.SeqUtils.ProtParam import ProteinAnalysis "
   ]
  },
  {
   "cell_type": "code",
   "execution_count": 164,
   "metadata": {},
   "outputs": [],
   "source": [
    "#Time to compute the molecular weight using this function\n",
    "#Line one defines the function and says we're going to be using the aa_seq data\n",
    "#Line two is assigning the ProteinAnalysis tool on the aa_seq data and calling it analyzed_max_seq\n",
    "#Line three is using the molecular weight function of the tool to get the sequence molecular weight\n",
    "#Line 4 is the return value\n",
    "#Source http://biopython.org/wiki/ProtParam\n",
    "def compute_molecular_weight(aa_seq):\n",
    "    analyzed_max_seq = ProteinAnalysis(aa_seq)\n",
    "    seq_molecular_weight = analyzed_max_seq.molecular_weight()\n",
    "    return(seq_molecular_weight)"
   ]
  },
  {
   "cell_type": "code",
   "execution_count": 165,
   "metadata": {
    "collapsed": true
   },
   "outputs": [],
   "source": [
    "#Getting the GC content percentage is what this function is doing\n",
    "#Line 1 is importing the GC tool from the Bio.SeqUtils package\n",
    "#Line 2 is defining the function to which we creat the gc content using string nucleotide files,\n",
    "#this is because Gs and Cs are present in the fasta file data not our translated data strings\n",
    "#Line three is creating the variable seq_gc_content which is the byproduct of running the GC tool \n",
    "#on the string nucleotides\n",
    "#This final line is the return value\n",
    "#Source http://biopython.org/DIST/docs/api/Bio.SeqUtils-module.html\n",
    "\n",
    "from Bio.SeqUtils import GC\n",
    "def gc_content(string_nucleotides):\n",
    "    seq_gc_content = GC(string_nucleotides)\n",
    "    return(seq_gc_content)\n",
    "    "
   ]
  },
  {
   "cell_type": "code",
   "execution_count": 166,
   "metadata": {
    "collapsed": true
   },
   "outputs": [],
   "source": [
    "#This is a variable you created in which we are getting the sequences from the fasta file for the\n",
    "#cytochrome b gene\n",
    "cytb_seqs = get_sequences_from_file(\"penguins_cytb.fasta\")"
   ]
  },
  {
   "cell_type": "code",
   "execution_count": 344,
   "metadata": {
    "collapsed": true
   },
   "outputs": [],
   "source": [
    "#This is creating a pandas dataframe based on the penguins mass csv file which you provided me\n",
    "penguins_df = pd.read_csv(\"penguins_mass.csv\")"
   ]
  },
  {
   "cell_type": "code",
   "execution_count": 345,
   "metadata": {
    "collapsed": true
   },
   "outputs": [],
   "source": [
    "#This is creating a list based off of the species column in the dataframe\n",
    "species_list = list(penguins_df.species)"
   ]
  },
  {
   "cell_type": "code",
   "execution_count": 346,
   "metadata": {
    "collapsed": true
   },
   "outputs": [],
   "source": [
    "#This imports numpy which is a package I can use for the following steps\n",
    "import numpy as np"
   ]
  },
  {
   "cell_type": "code",
   "execution_count": 347,
   "metadata": {
    "collapsed": true
   },
   "outputs": [],
   "source": [
    "#This creates a column called molecular weight to which all of the empty values are NaN or \n",
    "#Not a Number\n",
    "#Source https://docs.scipy.org/doc/numpy-1.13.0/reference/generated/numpy.isnan.html\n",
    "penguins_df[\"molecular weight\"] = np.nan"
   ]
  },
  {
   "cell_type": "code",
   "execution_count": 348,
   "metadata": {
    "collapsed": true
   },
   "outputs": [],
   "source": [
    "#This does the same but creates a column called GC content with NaNs\n",
    "#Source https://docs.scipy.org/doc/numpy-1.13.0/reference/generated/numpy.isnan.html\n",
    "penguins_df[\"GC content\"] = np.nan"
   ]
  },
  {
   "cell_type": "code",
   "execution_count": 349,
   "metadata": {},
   "outputs": [
    {
     "data": {
      "text/html": [
       "<div>\n",
       "<style>\n",
       "    .dataframe thead tr:only-child th {\n",
       "        text-align: right;\n",
       "    }\n",
       "\n",
       "    .dataframe thead th {\n",
       "        text-align: left;\n",
       "    }\n",
       "\n",
       "    .dataframe tbody tr th {\n",
       "        vertical-align: top;\n",
       "    }\n",
       "</style>\n",
       "<table border=\"1\" class=\"dataframe\">\n",
       "  <thead>\n",
       "    <tr style=\"text-align: right;\">\n",
       "      <th></th>\n",
       "      <th>species</th>\n",
       "      <th>mass</th>\n",
       "      <th>molecular weight</th>\n",
       "      <th>GC content</th>\n",
       "    </tr>\n",
       "  </thead>\n",
       "  <tbody>\n",
       "    <tr>\n",
       "      <th>0</th>\n",
       "      <td>Aptenodytes forsteri</td>\n",
       "      <td>28.00</td>\n",
       "      <td>NaN</td>\n",
       "      <td>NaN</td>\n",
       "    </tr>\n",
       "    <tr>\n",
       "      <th>1</th>\n",
       "      <td>Aptenodytes patagonicus</td>\n",
       "      <td>13.40</td>\n",
       "      <td>NaN</td>\n",
       "      <td>NaN</td>\n",
       "    </tr>\n",
       "    <tr>\n",
       "      <th>2</th>\n",
       "      <td>Eudyptes chrysocome</td>\n",
       "      <td>2.80</td>\n",
       "      <td>NaN</td>\n",
       "      <td>NaN</td>\n",
       "    </tr>\n",
       "    <tr>\n",
       "      <th>3</th>\n",
       "      <td>Eudyptes chrysolophus</td>\n",
       "      <td>4.50</td>\n",
       "      <td>NaN</td>\n",
       "      <td>NaN</td>\n",
       "    </tr>\n",
       "    <tr>\n",
       "      <th>4</th>\n",
       "      <td>Eudyptes sclateri</td>\n",
       "      <td>4.25</td>\n",
       "      <td>NaN</td>\n",
       "      <td>NaN</td>\n",
       "    </tr>\n",
       "    <tr>\n",
       "      <th>5</th>\n",
       "      <td>Eudyptula minor</td>\n",
       "      <td>1.60</td>\n",
       "      <td>NaN</td>\n",
       "      <td>NaN</td>\n",
       "    </tr>\n",
       "    <tr>\n",
       "      <th>6</th>\n",
       "      <td>Pygoscelis adeliae</td>\n",
       "      <td>4.60</td>\n",
       "      <td>NaN</td>\n",
       "      <td>NaN</td>\n",
       "    </tr>\n",
       "    <tr>\n",
       "      <th>7</th>\n",
       "      <td>Pygoscelis antarctica</td>\n",
       "      <td>4.10</td>\n",
       "      <td>NaN</td>\n",
       "      <td>NaN</td>\n",
       "    </tr>\n",
       "    <tr>\n",
       "      <th>8</th>\n",
       "      <td>Pygoscelis papua</td>\n",
       "      <td>6.10</td>\n",
       "      <td>NaN</td>\n",
       "      <td>NaN</td>\n",
       "    </tr>\n",
       "    <tr>\n",
       "      <th>9</th>\n",
       "      <td>Spheniscus demersus</td>\n",
       "      <td>3.20</td>\n",
       "      <td>NaN</td>\n",
       "      <td>NaN</td>\n",
       "    </tr>\n",
       "    <tr>\n",
       "      <th>10</th>\n",
       "      <td>Spheniscus humboldti</td>\n",
       "      <td>4.75</td>\n",
       "      <td>NaN</td>\n",
       "      <td>NaN</td>\n",
       "    </tr>\n",
       "    <tr>\n",
       "      <th>11</th>\n",
       "      <td>Spheniscus magellanicus</td>\n",
       "      <td>3.40</td>\n",
       "      <td>NaN</td>\n",
       "      <td>NaN</td>\n",
       "    </tr>\n",
       "  </tbody>\n",
       "</table>\n",
       "</div>"
      ],
      "text/plain": [
       "                    species   mass  molecular weight  GC content\n",
       "0      Aptenodytes forsteri  28.00               NaN         NaN\n",
       "1   Aptenodytes patagonicus  13.40               NaN         NaN\n",
       "2       Eudyptes chrysocome   2.80               NaN         NaN\n",
       "3     Eudyptes chrysolophus   4.50               NaN         NaN\n",
       "4         Eudyptes sclateri   4.25               NaN         NaN\n",
       "5           Eudyptula minor   1.60               NaN         NaN\n",
       "6        Pygoscelis adeliae   4.60               NaN         NaN\n",
       "7     Pygoscelis antarctica   4.10               NaN         NaN\n",
       "8          Pygoscelis papua   6.10               NaN         NaN\n",
       "9       Spheniscus demersus   3.20               NaN         NaN\n",
       "10     Spheniscus humboldti   4.75               NaN         NaN\n",
       "11  Spheniscus magellanicus   3.40               NaN         NaN"
      ]
     },
     "execution_count": 349,
     "metadata": {},
     "output_type": "execute_result"
    }
   ],
   "source": [
    "#This is the dataframe with missing data\n",
    "penguins_df"
   ]
  },
  {
   "cell_type": "code",
   "execution_count": 400,
   "metadata": {},
   "outputs": [
    {
     "name": "stdout",
     "output_type": "stream",
     "text": [
      "MAPNLRKSHPLLKMINNSLIDLPTPSNISAWWNFGSLLGICLTTQILTGLLLAMHYTADTTLAFSSVAHTCRNVQYGWLIRNLHANGASFFFICIYLHIGRGFYYGSYLYKETWNTGIILLLTLMATAFVGYVLPWGQMSFWGATVITNLFSAIPYIGQTLVEWTWGGFSVDNPTLTRFFALHFLLPFMIAGLTLIHLTFLHESGSNNPLGIVANSDKIPFHPYYSTKDILGFALMLLPLTTLALFSPNLLGDPENFTPANPLVTPPHIKPEWYFLFAYAILRSIPNKLGGVLALAASVLILFLIPLLHKSKQRTMAFRPLSQLLFWALVANLIILTWVGSQPVEHPFIIIGQLASLTYFTTLLILFPIAGALENKMLNH 42459.602100000004 48.38145231846019\n",
      "MAPNLRKSHPLLKMINNSLIDLPTPSNISAWWNFGSLLGICLTTQILTGLLLAMHYTADTTLAFSSVAHTCRNVQYGWLIRNLHANGASFFFICIYLHIGRGFYYGSYLYKETWNTGIILLLTLMATAFVGYVLPWGQMSFWGATVITNLFSAIPYIGQTLVEWAWGGFSVDNPTLTRFFALHFLLPFMIAGLTLIHLTFLHESGSNNPLGIVANSDKIPFHPYYSTKDTLGFALMLLPLTTLALFSPNLLGDPENFTPANPLVTPPHIKPEWYFLFAYAILRSIPNKLGGVLALAASVLILFLIPLLHKSKQRTMTFRPLSQLLFWTLVANLTILTWIGSQPVEHPFIIIGQLASLTYFTILLILFPLIGTLENKMLNH 42563.70669999999 49.69378827646544\n",
      "MAPNLRKSHPLLKTINNSLIDLPTPSNISAWWNFGSLLGICLATQILTGLLLAAHYTADTTLAFSSVAHTCRNVQYGWLIRNLHANGASFFFICIYLHIGRGLYYGSYLYKETWNTGIILLLTLMATAFVGYVLPWGQMSFWGATVITNLFSAIPYIGQTLVEWAWGGFSVDNPTLTRFFTLHFLLPFMIAGLTLIHLTFLHESGSNNPLGIVANSDKIPFHPYYSTKDILGFILLLLPLTTLALFSPNLLGDPENFTPANPLVTPPHIKPEWYFLFAYAILRSIPNKLGGVLALAASVLILFLIPLLHKSKQRTMTFRPLSQLLFWTLVANLTILTWIGSQPVEHPFIIIGQLASLTYFTILLILFPLIGTLENKMLNH 42475.5753 51.181102362204726\n",
      "MAPNLRKSHPLLKTINNSLIDLPTPSNISAWWNFGSLLGICLATQILTGLLLAAHYTADTTLAFSSVAHTCRNVQYGWLIRNLHANGASFFFICIYLHIGRGLYYGSYLYKETWNTGIILLLTLMATAFVGYVLPWGQMSFWGATVITNLFSAIPYIGQTLVEWAWGGFSVDNPTLTRFFTLHFLLPFMIAGLTLIHLTFLHESGSNNPLGIVANSDKIPFHPYYSTKDILGFILLLLPLTALALFSPNLLGDPENFTPANPLVTPPHIKPEWYFLFAYAILRSIPNKLGGVLALAASVLILFLIPLLHKSKQRTMTFRPLSQLLFWTLVANLTILTWIGSQPVEHPFIIIGQLASLTYFTILLILFPLIGTLENKMLNH 42445.54929999999 50.91863517060367\n",
      "MAPNLRKSHPLLKTINNSLIDLPTPSNISAWWNFGSLLGICLATQILTGLLLAAHYTADTTLAFSSVAHTCRNVQYGWLIRNLHANGASFFFICIYLHIGRGLYYGSYLYKETWNTGIILLLTLMATAFVGYVLPWGQMSFWGATVITNLFSAIPYIGQTLVEWAWGGFSVDNPTLTRFFTLHFLLPFMIAGLTLIHLTFLHESGSNNPLGIVANSDKIPFHPYYSTKDILGFILLLLPLTTLALFSPNLLGDPENFTPANPLVTPPHIKPEWYFLFAYAILRSIPNKLGGVLALAASVLILFLIPLLHKSKQRTMTFRPLSQLLFWTLVANLTILTWIGSQPVEHPFIIIGQLASLTYFTILLILFPLIGTLENKMLNH 42475.5753 50.83114610673666\n",
      "MAPNLRKSHPLLKMINNSLIDLPTPSNISTWWNFGSLLGICLITQILTGLLLAAHYTADTTLAFSSIAHTCRNVQYGWLIRNLHANGASFFFICIYLHIGRGLYYGSYLYKETWNTGIILLITLMATAFVGYVLPWGQMSFWGATVITNLFSAIPYIGQTLVEWAWGGFSVDNPTLTRFFALHFLLPFMITGLTLIHLTFLHESGSNNPLGIVANSDKIPFHPYYSTKDILGFILLLLPLTTLALFSPNLLGDPENFTPANPLVTPPHIKPEWYFLFAYAILRSIPNKLGGVLALAASVLILFLIPLLHKSKQRSMAFRPLSQLLFWTLVANLTILTWVGNQPVEHPFIIIGQLASLTYFTILLILFPLAGTLENKMLSH 42491.64080000001 49.25634295713036\n",
      "MAPNLRKSHPLLKMINNSLIDLPTPSNISAWWNFGSLLGICLTTQILTGLLLAMHYTADTTLAFSSIAHTCRDVQYGWLIRNLHANGASFFFICIYLHIGRGLYYGSYLYKETWNTGIILLLTLMATAFVGYVLPWGQMSFWGATVITNLFSAIPYIGQTLVEWAWGGFSVDNPTLTRFFALHFLLPFVIMGLTLIHLTFLHESGSNNPLGIVANSDKIPFHPYYSTKDILGFAFMLLPLTTLALFSPNLLGDPENFTPANPLVTPPHIKPEWYFLFAYAILRSIPNKLGGVLALAASVLILFLIPLLHKSKQRTMAFRPLSQLLFWALVANLAILTWVGSQPVEHPFIIIGQLASLTYFTILLILFPSIGALENKMLNH 42458.61400000001 49.08136482939633\n",
      "MAPNLRKSHPLLKMINNSLIDLPTPSNISAWWNFGSLLGICLTTQILTGLLLAMHYTADTTLAFSSIAHTCRDVQYGWLIRNMHANGASLLFICIYLHIGRGVYDGSYLHKETWNTGVILLLTLMATAFVGYVLPWGQMSFWGATVITNLFSAIPYIGQTIVEWAWGGFSVDNPTLTRFFALHFLLPFMITGLTLIHLTFLHESGSNNPLGIVANSDKIPFHPYYSTKDILGFTLMLLPLTTLALFSPNLLGDPENFTPANPLVTPPHIKPEWYFLFAYAILRSIPNKLGGVLALAASVLVLFLSPLLHKSKQRTMAFRPLSQLLFWTLVANLLILTWIGSQPVEHPFIIIGQLASTTYFIILLILFPITSALENKMLNF 42404.54230000001 47.76902887139108\n",
      "MAPNLRKSHPLLKMINKSLIDLPTPPNISAWWNFGSLLGICLITQILTGLLLAMHYTADTTLAFSSIAHTCRNVQYGWLIRNLHANGASFFFICIYFHIGRGLYYGSYLYKETWNTGIILLLTLMATAFVGYVLPWGQMSFWGATVITNLFSAIPYVGQTLVEWAWGGFSVDNPTLTRFFALHFLLPFMITGLTLIHLTFLHESGSNNPLGIVANSDKIPFHPYYSTKDILGFALMLLPLTTLALFSPNLLGDPENFTPANPLVTPPHIKPEWYFLFAYAILRSIPNKLGGVLALAASVLILFLSPLLHKSKQRTMAFRPLSQLLFWTLVANLLILTWIGSQPVEHPFIIIGQLASTTYFIILLILFPITSALENKMLNF 42595.87590000001 47.15660542432196\n",
      "MAPNLRKSHPLLKTINNSLIDLPTPSNISAWWNFGSLLGICLATQILTGLLLAAHYTADTTLAFSSVAHMCRNVQYGWLIRNLHANGASFFFICIYLHIGRGLYYGSYLYKETWNTGIILLLTLMATAFVGYVLPWGQMSFWGATVITNLFSAIPYIGQTLVEWAWGGFSVDNPTLTRFFALHFLLPFMITGLTLIHLTFLHESGSNNPLGIVANSDKIPFHPYYSTKDILGFMLLLLPLTTLALFSPNLLGDPENFTPANPLVTPPHIKPEWYFLFAYAILRSIPNKLGGVLALAASVLILFLMPLLHKSKQRTMAFRPLSQLLFWTLVANLIILTWIGSQPVEHPFIAIGQLASFTYFTTLLILFPLAGALENKMLNH 42431.54900000002 48.29396325459317\n",
      "MAPNLRKSHPLLKTINNSLIDLPTPSNISAWWNFGSLLSICLATQILTGLLLAAHYTADTTLAFSSVAHMCRNVQYGWLIRNLHANGASFFFICIYLHIGRGLYYGSYLHKETWNTGIILLLTLMATAFVGYVLPWGQMSFWGATVITNLFSAIPYIGQTLVEWAWGGFSVDNPTLTRFFALHFLLPFMITGLALIHLTFLHESGSNNPLGIVANSDKIPFHPYYSTKDILGFMLLLLPLTTLALFSPNLLGDPENFTPANPLVTPPHIKPEWYFLFAYAILRSIPNKLGGVLALAASVLILFLMPLLHKSKQRTMAFRPLSQLLFWTLVANLIILTWVGSQPVEHPFIIIGQLASLTYFTTLLILFPLAGALENKMLNH 42399.55200000001 49.25634295713036\n",
      "MAPNLRKSHPLLKTINNSLIDLPTPSNISAWWNFGSLLGICLATQILTGLLLAAHYTADTTLAFSSVAHMCRNVQYGWLIRNLHANGASFFFICIYLHIGRGLYYGSYLYKETWNTGIILLLTLMATAFVGYVLPWGQMSFWGATVITNLFSAIPYIGQTLVEWAWGGFSVDNPTLTRFFALHFLLPFMITGLTLIHLTFLHESGSNNPLGIVANSDKIPFHPYYSTKDILGFMLLLLPLTTLALFSPNLLGDPENFTPANPLVTPPHIKPEWYFLFAYAILRSIPNKLGGVLALAASVLILFLMPLLHKSKQRTMAFRPLSQLLFWTLVANLIILTWVGSQPVEHPFIIIGQLASFTYFTTLLILFPLAGALENKMLNH 42459.60210000002 48.20647419072616\n"
     ]
    }
   ],
   "source": [
    "#This for loop uses a key to enter the cytb_seqs dictionary and pulls the information we need\n",
    "#Line two is creating the amino acid sequence using my defined function for translation based on\n",
    "#values within the dictionary\n",
    "#Next I'm using my created molecular weight computation function to calculate the molecular \n",
    "#weight of the amino acid sequence I created earlier in the for loop with my translation \n",
    "#function\n",
    "#Line 4 is using the gc_content function I created to calculate the molecular weight of the \n",
    "#nucleotide string data from cytb_seqs\n",
    "#Finally I tested the for loop using the print function and as you can see below the loop works, \n",
    "#I used the data here to complete the assignment\n",
    "#Source Your psuedo code you gave me, https://stackoverflow.com/questions/988228/convert-a-string-representation-of-a-dictionary-to-a-dictionary\n",
    "for key, value in cytb_seqs.items():\n",
    "    my_aa_seq = Max_translate(str(value))\n",
    "    mol_weight = compute_molecular_weight(str(my_aa_seq))\n",
    "    gc_con = gc_content(str(value))\n",
    "    print(my_aa_seq,mol_weight,gc_con)\n",
    "   "
   ]
  },
  {
   "cell_type": "code",
   "execution_count": 350,
   "metadata": {},
   "outputs": [],
   "source": []
  },
  {
   "cell_type": "code",
   "execution_count": null,
   "metadata": {},
   "outputs": [],
   "source": []
  },
  {
   "cell_type": "code",
   "execution_count": 403,
   "metadata": {},
   "outputs": [],
   "source": [
    "#I inserted the information from the above for loop into the data frame (I couldn't figure out\n",
    "#how to do this in the for loop without getting tons of errors) My aplogies Dr. X :( \n",
    "#Source https://www.datacamp.com/community/tutorials/pandas-tutorial-dataframe-python, https://eeob-biodata.github.io/2017-python-programming/04-more-dataframes/\n",
    "mw = ['42459.602100000004', '42563.70669999999', '42475.5753', '42445.54929999999','42475.5753','42491.64080000001','42458.61400000001','42404.54230000001','42595.87590000001','42431.54900000002','42399.55200000001','42459.60210000002']\n",
    "penguins_df['molecular weight'] = mw\n",
    "gc = ['48.38145231846019','49.69378827646544','51.181102362204726','50.91863517060367','50.83114610673666','49.25634295713036','49.08136482939633','47.76902887139108','47.15660542432196','48.29396325459317','49.25634295713036','48.20647419072616']\n",
    "penguins_df['GC content'] = gc"
   ]
  },
  {
   "cell_type": "code",
   "execution_count": 402,
   "metadata": {},
   "outputs": [
    {
     "data": {
      "text/html": [
       "<div>\n",
       "<style>\n",
       "    .dataframe thead tr:only-child th {\n",
       "        text-align: right;\n",
       "    }\n",
       "\n",
       "    .dataframe thead th {\n",
       "        text-align: left;\n",
       "    }\n",
       "\n",
       "    .dataframe tbody tr th {\n",
       "        vertical-align: top;\n",
       "    }\n",
       "</style>\n",
       "<table border=\"1\" class=\"dataframe\">\n",
       "  <thead>\n",
       "    <tr style=\"text-align: right;\">\n",
       "      <th></th>\n",
       "      <th>species</th>\n",
       "      <th>mass</th>\n",
       "      <th>molecular weight</th>\n",
       "      <th>GC content</th>\n",
       "    </tr>\n",
       "  </thead>\n",
       "  <tbody>\n",
       "    <tr>\n",
       "      <th>0</th>\n",
       "      <td>Aptenodytes forsteri</td>\n",
       "      <td>28.00</td>\n",
       "      <td>42459.602100000004</td>\n",
       "      <td>48.38145231846019</td>\n",
       "    </tr>\n",
       "    <tr>\n",
       "      <th>1</th>\n",
       "      <td>Aptenodytes patagonicus</td>\n",
       "      <td>13.40</td>\n",
       "      <td>42563.70669999999</td>\n",
       "      <td>49.69378827646544</td>\n",
       "    </tr>\n",
       "    <tr>\n",
       "      <th>2</th>\n",
       "      <td>Eudyptes chrysocome</td>\n",
       "      <td>2.80</td>\n",
       "      <td>42475.5753</td>\n",
       "      <td>51.181102362204726</td>\n",
       "    </tr>\n",
       "    <tr>\n",
       "      <th>3</th>\n",
       "      <td>Eudyptes chrysolophus</td>\n",
       "      <td>4.50</td>\n",
       "      <td>42445.54929999999</td>\n",
       "      <td>50.91863517060367</td>\n",
       "    </tr>\n",
       "    <tr>\n",
       "      <th>4</th>\n",
       "      <td>Eudyptes sclateri</td>\n",
       "      <td>4.25</td>\n",
       "      <td>42475.5753</td>\n",
       "      <td>50.83114610673666</td>\n",
       "    </tr>\n",
       "    <tr>\n",
       "      <th>5</th>\n",
       "      <td>Eudyptula minor</td>\n",
       "      <td>1.60</td>\n",
       "      <td>42491.64080000001</td>\n",
       "      <td>49.25634295713036</td>\n",
       "    </tr>\n",
       "    <tr>\n",
       "      <th>6</th>\n",
       "      <td>Pygoscelis adeliae</td>\n",
       "      <td>4.60</td>\n",
       "      <td>42458.61400000001</td>\n",
       "      <td>49.08136482939633</td>\n",
       "    </tr>\n",
       "    <tr>\n",
       "      <th>7</th>\n",
       "      <td>Pygoscelis antarctica</td>\n",
       "      <td>4.10</td>\n",
       "      <td>42404.54230000001</td>\n",
       "      <td>47.76902887139108</td>\n",
       "    </tr>\n",
       "    <tr>\n",
       "      <th>8</th>\n",
       "      <td>Pygoscelis papua</td>\n",
       "      <td>6.10</td>\n",
       "      <td>42595.87590000001</td>\n",
       "      <td>47.15660542432196</td>\n",
       "    </tr>\n",
       "    <tr>\n",
       "      <th>9</th>\n",
       "      <td>Spheniscus demersus</td>\n",
       "      <td>3.20</td>\n",
       "      <td>42431.54900000002</td>\n",
       "      <td>48.29396325459317</td>\n",
       "    </tr>\n",
       "    <tr>\n",
       "      <th>10</th>\n",
       "      <td>Spheniscus humboldti</td>\n",
       "      <td>4.75</td>\n",
       "      <td>42399.55200000001</td>\n",
       "      <td>49.25634295713036</td>\n",
       "    </tr>\n",
       "    <tr>\n",
       "      <th>11</th>\n",
       "      <td>Spheniscus magellanicus</td>\n",
       "      <td>3.40</td>\n",
       "      <td>42459.60210000002</td>\n",
       "      <td>48.20647419072616</td>\n",
       "    </tr>\n",
       "  </tbody>\n",
       "</table>\n",
       "</div>"
      ],
      "text/plain": [
       "                    species   mass    molecular weight          GC content\n",
       "0      Aptenodytes forsteri  28.00  42459.602100000004   48.38145231846019\n",
       "1   Aptenodytes patagonicus  13.40   42563.70669999999   49.69378827646544\n",
       "2       Eudyptes chrysocome   2.80          42475.5753  51.181102362204726\n",
       "3     Eudyptes chrysolophus   4.50   42445.54929999999   50.91863517060367\n",
       "4         Eudyptes sclateri   4.25          42475.5753   50.83114610673666\n",
       "5           Eudyptula minor   1.60   42491.64080000001   49.25634295713036\n",
       "6        Pygoscelis adeliae   4.60   42458.61400000001   49.08136482939633\n",
       "7     Pygoscelis antarctica   4.10   42404.54230000001   47.76902887139108\n",
       "8          Pygoscelis papua   6.10   42595.87590000001   47.15660542432196\n",
       "9       Spheniscus demersus   3.20   42431.54900000002   48.29396325459317\n",
       "10     Spheniscus humboldti   4.75   42399.55200000001   49.25634295713036\n",
       "11  Spheniscus magellanicus   3.40   42459.60210000002   48.20647419072616"
      ]
     },
     "execution_count": 402,
     "metadata": {},
     "output_type": "execute_result"
    }
   ],
   "source": [
    "#The completed data frame\n",
    "penguins_df"
   ]
  },
  {
   "cell_type": "code",
   "execution_count": 356,
   "metadata": {},
   "outputs": [],
   "source": [
    "#I now want to start some plotting, to this I must use the matplot library\n",
    "#\n",
    "%matplotlib inline"
   ]
  },
  {
   "cell_type": "code",
   "execution_count": 360,
   "metadata": {},
   "outputs": [
    {
     "data": {
      "text/plain": [
       "<matplotlib.axes._subplots.AxesSubplot at 0x111953390>"
      ]
     },
     "execution_count": 360,
     "metadata": {},
     "output_type": "execute_result"
    },
    {
     "data": {
      "image/png": "[encoded data removed]",
      "text/plain": [
       "<matplotlib.figure.Figure at 0x111894a90>"
      ]
     },
     "metadata": {},
     "output_type": "display_data"
    }
   ],
   "source": [
    "#You requested a simple bar plot looking at the mass for each species\n",
    "#This function uses the species column for the x axis and the mass column for the y axis\n",
    "#Source https://eeob-biodata.github.io/2017-python-programming/03-starting-with-data/\n",
    "penguins_df.plot.bar(x='species',y='mass')"
   ]
  },
  {
   "cell_type": "code",
   "execution_count": 361,
   "metadata": {
    "collapsed": true
   },
   "outputs": [],
   "source": [
    "#Heres the answers to your questions\n",
    "#A1. The smallest penguin species is Eudyptula minor\n",
    "#A2. This is the smallest penguin species and is also known as \"little penguin\" \n",
    "#This penguin is the basis for the mascot \"Tux\" , the official mascot for Linux!\n",
    "#Source http://animaldiversity.org/accounts/Eudyptula_minor/, https://www.beautyofbirds.com/littlepenguins.html"
   ]
  },
  {
   "cell_type": "code",
   "execution_count": 362,
   "metadata": {
    "collapsed": true
   },
   "outputs": [],
   "source": [
    "#I will now import some more plotting tools similar to what I learned in my bioinformatics class\n",
    "import matplotlib.pyplot as plt\n",
    "import seaborn as sns\n"
   ]
  },
  {
   "cell_type": "code",
   "execution_count": 366,
   "metadata": {},
   "outputs": [],
   "source": [
    "#I kept getting errors when I was using my previous penguins dataframe so I had to convert the \n",
    "#values to float values instead (as recommended by the Python error warning messages I repeatedly\n",
    "#got...)\n",
    "from functools import partial"
   ]
  },
  {
   "cell_type": "code",
   "execution_count": 371,
   "metadata": {},
   "outputs": [],
   "source": [
    "#This is my float dataframe, now I can do some cool plotting\n",
    "#https://stackoverflow.com/questions/16729483/converting-strings-to-floats-in-a-dataframe\n",
    "penguin_float = penguins_df_complete.apply(partial(pd.to_numeric, errors='ignore'))"
   ]
  },
  {
   "cell_type": "code",
   "execution_count": 372,
   "metadata": {},
   "outputs": [
    {
     "data": {
      "text/html": [
       "<div>\n",
       "<style>\n",
       "    .dataframe thead tr:only-child th {\n",
       "        text-align: right;\n",
       "    }\n",
       "\n",
       "    .dataframe thead th {\n",
       "        text-align: left;\n",
       "    }\n",
       "\n",
       "    .dataframe tbody tr th {\n",
       "        vertical-align: top;\n",
       "    }\n",
       "</style>\n",
       "<table border=\"1\" class=\"dataframe\">\n",
       "  <thead>\n",
       "    <tr style=\"text-align: right;\">\n",
       "      <th></th>\n",
       "      <th>species</th>\n",
       "      <th>mass</th>\n",
       "      <th>molecular weight</th>\n",
       "      <th>GC content</th>\n",
       "    </tr>\n",
       "  </thead>\n",
       "  <tbody>\n",
       "    <tr>\n",
       "      <th>0</th>\n",
       "      <td>Aptenodytes forsteri</td>\n",
       "      <td>28.00</td>\n",
       "      <td>42459.6021</td>\n",
       "      <td>48.381452</td>\n",
       "    </tr>\n",
       "    <tr>\n",
       "      <th>1</th>\n",
       "      <td>Aptenodytes patagonicus</td>\n",
       "      <td>13.40</td>\n",
       "      <td>42563.7067</td>\n",
       "      <td>49.693788</td>\n",
       "    </tr>\n",
       "    <tr>\n",
       "      <th>2</th>\n",
       "      <td>Eudyptes chrysocome</td>\n",
       "      <td>2.80</td>\n",
       "      <td>42475.5753</td>\n",
       "      <td>51.181102</td>\n",
       "    </tr>\n",
       "    <tr>\n",
       "      <th>3</th>\n",
       "      <td>Eudyptes chrysolophus</td>\n",
       "      <td>4.50</td>\n",
       "      <td>42445.5493</td>\n",
       "      <td>50.918635</td>\n",
       "    </tr>\n",
       "    <tr>\n",
       "      <th>4</th>\n",
       "      <td>Eudyptes sclateri</td>\n",
       "      <td>4.25</td>\n",
       "      <td>42475.5753</td>\n",
       "      <td>50.831146</td>\n",
       "    </tr>\n",
       "    <tr>\n",
       "      <th>5</th>\n",
       "      <td>Eudyptula minor</td>\n",
       "      <td>1.60</td>\n",
       "      <td>42491.6408</td>\n",
       "      <td>49.256343</td>\n",
       "    </tr>\n",
       "    <tr>\n",
       "      <th>6</th>\n",
       "      <td>Pygoscelis adeliae</td>\n",
       "      <td>4.60</td>\n",
       "      <td>42458.6140</td>\n",
       "      <td>49.081365</td>\n",
       "    </tr>\n",
       "    <tr>\n",
       "      <th>7</th>\n",
       "      <td>Pygoscelis antarctica</td>\n",
       "      <td>4.10</td>\n",
       "      <td>42404.5423</td>\n",
       "      <td>47.769029</td>\n",
       "    </tr>\n",
       "    <tr>\n",
       "      <th>8</th>\n",
       "      <td>Pygoscelis papua</td>\n",
       "      <td>6.10</td>\n",
       "      <td>42595.8759</td>\n",
       "      <td>47.156605</td>\n",
       "    </tr>\n",
       "    <tr>\n",
       "      <th>9</th>\n",
       "      <td>Spheniscus demersus</td>\n",
       "      <td>3.20</td>\n",
       "      <td>42431.5490</td>\n",
       "      <td>48.293963</td>\n",
       "    </tr>\n",
       "    <tr>\n",
       "      <th>10</th>\n",
       "      <td>Spheniscus humboldti</td>\n",
       "      <td>4.75</td>\n",
       "      <td>42399.5520</td>\n",
       "      <td>49.256343</td>\n",
       "    </tr>\n",
       "    <tr>\n",
       "      <th>11</th>\n",
       "      <td>Spheniscus magellanicus</td>\n",
       "      <td>3.40</td>\n",
       "      <td>42459.6021</td>\n",
       "      <td>48.206474</td>\n",
       "    </tr>\n",
       "  </tbody>\n",
       "</table>\n",
       "</div>"
      ],
      "text/plain": [
       "                    species   mass  molecular weight  GC content\n",
       "0      Aptenodytes forsteri  28.00        42459.6021   48.381452\n",
       "1   Aptenodytes patagonicus  13.40        42563.7067   49.693788\n",
       "2       Eudyptes chrysocome   2.80        42475.5753   51.181102\n",
       "3     Eudyptes chrysolophus   4.50        42445.5493   50.918635\n",
       "4         Eudyptes sclateri   4.25        42475.5753   50.831146\n",
       "5           Eudyptula minor   1.60        42491.6408   49.256343\n",
       "6        Pygoscelis adeliae   4.60        42458.6140   49.081365\n",
       "7     Pygoscelis antarctica   4.10        42404.5423   47.769029\n",
       "8          Pygoscelis papua   6.10        42595.8759   47.156605\n",
       "9       Spheniscus demersus   3.20        42431.5490   48.293963\n",
       "10     Spheniscus humboldti   4.75        42399.5520   49.256343\n",
       "11  Spheniscus magellanicus   3.40        42459.6021   48.206474"
      ]
     },
     "execution_count": 372,
     "metadata": {},
     "output_type": "execute_result"
    }
   ],
   "source": [
    "#Looks good, the values are smaller now, maybe thats what was causing the previous errors?..\n",
    "penguin_float"
   ]
  },
  {
   "cell_type": "code",
   "execution_count": 404,
   "metadata": {},
   "outputs": [
    {
     "data": {
      "text/plain": [
       "<seaborn.axisgrid.FacetGrid at 0x1a17cf1588>"
      ]
     },
     "execution_count": 404,
     "metadata": {},
     "output_type": "execute_result"
    },
    {
     "data": {
      "image/png": "[encoded data removed]",
      "text/plain": [
       "<matplotlib.figure.Figure at 0x1a17cf14e0>"
      ]
     },
     "metadata": {},
     "output_type": "display_data"
    }
   ],
   "source": [
    "#Here I used the seaborn package to create a functional graph plotting GC content vs molecular \n",
    "#weight based on the species of penguin.  \n",
    "#The species are outlined in the legend and now one can look at the relations between GC and \n",
    "#molecular weight. \n",
    "#Source https://eeob-biodata.github.io/2017-python-programming/05-seaborn-viz/\n",
    "sns.lmplot(\"molecular weight\", \"GC content\", data=penguin_float, fit_reg=False, size=4,\n",
    "           aspect=1.5, scatter_kws={'alpha':0.3,\"s\": 50}, hue='species', markers='D')"
   ]
  },
  {
   "cell_type": "code",
   "execution_count": 381,
   "metadata": {},
   "outputs": [
    {
     "data": {
      "text/plain": [
       "<seaborn.axisgrid.FacetGrid at 0x1a16ef59e8>"
      ]
     },
     "execution_count": 381,
     "metadata": {},
     "output_type": "execute_result"
    },
    {
     "data": {
      "image/png": "[encoded data removed]",
      "text/plain": [
       "<matplotlib.figure.Figure at 0x1a145387b8>"
      ]
     },
     "metadata": {},
     "output_type": "display_data"
    }
   ],
   "source": [
    "#Heres another cool graph showing the molecular weight vs GC content for each penguin species,\n",
    "#I like this graph a bit more because its easier to see species.\n",
    "#Source https://elitedatascience.com/python-seaborn-tutorial\n",
    "sns.lmplot(data=penguin_float,\n",
    "           x='molecular weight',\n",
    "           y='GC content',\n",
    "           hue='species')"
   ]
  },
  {
   "cell_type": "code",
   "execution_count": 382,
   "metadata": {
    "collapsed": true
   },
   "outputs": [],
   "source": [
    "#I now wanted to see if there was any sort of correlation between the mass, molecular weight, \n",
    "#and/or GC content of the penguin species.  The is a correlation tool\n",
    "#Source https://elitedatascience.com/python-seaborn-tutorial\n",
    "corr = penguin_float.corr()"
   ]
  },
  {
   "cell_type": "code",
   "execution_count": 383,
   "metadata": {},
   "outputs": [
    {
     "data": {
      "text/plain": [
       "<matplotlib.axes._subplots.AxesSubplot at 0x1a1728d908>"
      ]
     },
     "execution_count": 383,
     "metadata": {},
     "output_type": "execute_result"
    },
    {
     "data": {
      "image/png": "[encoded data removed]",
      "text/plain": [
       "<matplotlib.figure.Figure at 0x1a172929e8>"
      ]
     },
     "metadata": {},
     "output_type": "display_data"
    }
   ],
   "source": [
    "#Hmm, not much correlation between mass and GC content but there appears to be a small amount of\n",
    "#connection between molecular weight and mass.  Interesting!\n",
    "sns.heatmap(corr)"
   ]
  },
  {
   "cell_type": "code",
   "execution_count": 387,
   "metadata": {},
   "outputs": [],
   "source": [
    "#This saves my penguin dataframe to a new file which you can view.\n",
    "#Source https://stackoverflow.com/questions/16923281/pandas-writing-dataframe-to-csv-file\n",
    "penguin_float.to_csv('penguins_mass_cytb.csv')\n"
   ]
  },
  {
   "cell_type": "code",
   "execution_count": null,
   "metadata": {
    "collapsed": true
   },
   "outputs": [],
   "source": [
    "#Thanks Dr. X! -Max "
   ]
  }
 ],
 "metadata": {
  "kernelspec": {
   "display_name": "Python 3",
   "language": "python",
   "name": "python3"
  },
  "language_info": {
   "codemirror_mode": {
    "name": "ipython",
    "version": 3
   },
   "file_extension": ".py",
   "mimetype": "text/x-python",
   "name": "python",
   "nbconvert_exporter": "python",
   "pygments_lexer": "ipython3",
   "version": "3.6.2"
  }
 },
 "nbformat": 4,
 "nbformat_minor": 2
}
